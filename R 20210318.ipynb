{
 "cells": [
  {
   "cell_type": "code",
   "execution_count": 1,
   "id": "indonesian-timing",
   "metadata": {},
   "outputs": [
    {
     "name": "stdout",
     "output_type": "stream",
     "text": [
      "package 'readxl' successfully unpacked and MD5 sums checked\n",
      "\n",
      "The downloaded binary packages are in\n",
      "\tC:\\Users\\Public\\Documents\\ESTsoft\\CreatorTemp\\Rtmpg104wy\\downloaded_packages\n"
     ]
    }
   ],
   "source": [
    "install.packages(\"readxl\")"
   ]
  },
  {
   "cell_type": "code",
   "execution_count": 2,
   "id": "dangerous-ordering",
   "metadata": {
    "scrolled": true
   },
   "outputs": [
    {
     "name": "stderr",
     "output_type": "stream",
     "text": [
      "Warning message:\n",
      "\"package 'readxl' was built under R version 3.6.3\"Warning message:\n",
      "\"package 'dplyr' was built under R version 3.6.3\"\n",
      "Attaching package: 'dplyr'\n",
      "\n",
      "The following objects are masked from 'package:stats':\n",
      "\n",
      "    filter, lag\n",
      "\n",
      "The following objects are masked from 'package:base':\n",
      "\n",
      "    intersect, setdiff, setequal, union\n",
      "\n"
     ]
    }
   ],
   "source": [
    "library(readxl)\n",
    "library(dplyr)\n",
    "customer_r <- read_excel(\"customer_r.xlsx\")\n",
    "reservation_r <- read_excel(\"reservation_r.xlsx\")\n",
    "order_info_r <- read_excel(\"order_info_r.xlsx\")\n",
    "item_r <- read_excel(\"item_r.xlsx\")\n",
    "colnames(customer_r) <- tolower(colnames(customer_r))\n",
    "colnames(reservation_r) <- tolower(colnames(reservation_r))\n",
    "colnames(order_info_r) <- tolower(colnames(order_info_r))\n",
    "colnames(item_r) <- tolower(colnames(item_r))\n"
   ]
  },
  {
   "cell_type": "code",
   "execution_count": 3,
   "id": "going-istanbul",
   "metadata": {},
   "outputs": [
    {
     "name": "stdout",
     "output_type": "stream",
     "text": [
      "package 'ggplot2' successfully unpacked and MD5 sums checked\n",
      "\n",
      "The downloaded binary packages are in\n",
      "\tC:\\Users\\Public\\Documents\\ESTsoft\\CreatorTemp\\Rtmpg104wy\\downloaded_packages\n"
     ]
    }
   ],
   "source": [
    "install.packages(\"ggplot2\")"
   ]
  },
  {
   "cell_type": "code",
   "execution_count": 4,
   "id": "careful-double",
   "metadata": {},
   "outputs": [
    {
     "name": "stderr",
     "output_type": "stream",
     "text": [
      "Warning message:\n",
      "\"package 'ggplot2' was built under R version 3.6.3\""
     ]
    }
   ],
   "source": [
    "library(ggplot2) "
   ]
  },
  {
   "cell_type": "code",
   "execution_count": 5,
   "id": "qualified-harmony",
   "metadata": {},
   "outputs": [],
   "source": [
    "df_cfm_order <- inner_join(reservation_r, order_info_r, by = \"reserv_no\") %>%\n",
    "    select(customer_id, reserv_no, visitor_cnt, cancel, order_no, item_id, sales) %>%\n",
    "arrange(customer_id, reserv_no, item_id)"
   ]
  },
  {
   "cell_type": "code",
   "execution_count": 6,
   "id": "grave-paragraph",
   "metadata": {},
   "outputs": [
    {
     "data": {
      "text/html": [
       "<table>\n",
       "<thead><tr><th scope=col>customer_id</th><th scope=col>reserv_no</th><th scope=col>visitor_cnt</th><th scope=col>cancel</th><th scope=col>order_no</th><th scope=col>item_id</th><th scope=col>sales</th></tr></thead>\n",
       "<tbody>\n",
       "\t<tr><td>W1327595          </td><td>2019061801        </td><td>2                 </td><td>N                 </td><td>190618107186310010</td><td>M0001             </td><td> 48000            </td></tr>\n",
       "\t<tr><td>W1327595          </td><td>2019071801        </td><td>4                 </td><td>N                 </td><td>190718107186310010</td><td>M0005             </td><td>140000            </td></tr>\n",
       "\t<tr><td>W1327803          </td><td>2019060301        </td><td>4                 </td><td>N                 </td><td>190603578341100100</td><td>M0005             </td><td>140000            </td></tr>\n",
       "\t<tr><td>W1327803          </td><td>2019091506        </td><td>2                 </td><td>N                 </td><td>190915137187310010</td><td>M0005             </td><td> 70000            </td></tr>\n",
       "\t<tr><td>W1328432          </td><td>2019060601        </td><td>4                 </td><td>N                 </td><td>190606607189610010</td><td>M0005             </td><td>140000            </td></tr>\n",
       "\t<tr><td>W1328432          </td><td>2019060601        </td><td>4                 </td><td>N                 </td><td>190606607189610010</td><td>M0010             </td><td> 12000            </td></tr>\n",
       "</tbody>\n",
       "</table>\n"
      ],
      "text/latex": [
       "\\begin{tabular}{r|lllllll}\n",
       " customer\\_id & reserv\\_no & visitor\\_cnt & cancel & order\\_no & item\\_id & sales\\\\\n",
       "\\hline\n",
       "\t W1327595           & 2019061801         & 2                  & N                  & 190618107186310010 & M0001              &  48000            \\\\\n",
       "\t W1327595           & 2019071801         & 4                  & N                  & 190718107186310010 & M0005              & 140000            \\\\\n",
       "\t W1327803           & 2019060301         & 4                  & N                  & 190603578341100100 & M0005              & 140000            \\\\\n",
       "\t W1327803           & 2019091506         & 2                  & N                  & 190915137187310010 & M0005              &  70000            \\\\\n",
       "\t W1328432           & 2019060601         & 4                  & N                  & 190606607189610010 & M0005              & 140000            \\\\\n",
       "\t W1328432           & 2019060601         & 4                  & N                  & 190606607189610010 & M0010              &  12000            \\\\\n",
       "\\end{tabular}\n"
      ],
      "text/markdown": [
       "\n",
       "| customer_id | reserv_no | visitor_cnt | cancel | order_no | item_id | sales |\n",
       "|---|---|---|---|---|---|---|\n",
       "| W1327595           | 2019061801         | 2                  | N                  | 190618107186310010 | M0001              |  48000             |\n",
       "| W1327595           | 2019071801         | 4                  | N                  | 190718107186310010 | M0005              | 140000             |\n",
       "| W1327803           | 2019060301         | 4                  | N                  | 190603578341100100 | M0005              | 140000             |\n",
       "| W1327803           | 2019091506         | 2                  | N                  | 190915137187310010 | M0005              |  70000             |\n",
       "| W1328432           | 2019060601         | 4                  | N                  | 190606607189610010 | M0005              | 140000             |\n",
       "| W1328432           | 2019060601         | 4                  | N                  | 190606607189610010 | M0010              |  12000             |\n",
       "\n"
      ],
      "text/plain": [
       "  customer_id reserv_no  visitor_cnt cancel order_no           item_id sales \n",
       "1 W1327595    2019061801 2           N      190618107186310010 M0001    48000\n",
       "2 W1327595    2019071801 4           N      190718107186310010 M0005   140000\n",
       "3 W1327803    2019060301 4           N      190603578341100100 M0005   140000\n",
       "4 W1327803    2019091506 2           N      190915137187310010 M0005    70000\n",
       "5 W1328432    2019060601 4           N      190606607189610010 M0005   140000\n",
       "6 W1328432    2019060601 4           N      190606607189610010 M0010    12000"
      ]
     },
     "metadata": {},
     "output_type": "display_data"
    }
   ],
   "source": [
    "head(df_cfm_order)"
   ]
  },
  {
   "cell_type": "code",
   "execution_count": 7,
   "id": "double-advisory",
   "metadata": {},
   "outputs": [
    {
     "data": {
      "text/html": [
       "<table>\n",
       "<thead><tr><th scope=col>customer_id</th><th scope=col>vst_cnt</th><th scope=col>cust_amt</th></tr></thead>\n",
       "<tbody>\n",
       "\t<tr><td>W1327595</td><td> 6      </td><td>188     </td></tr>\n",
       "\t<tr><td>W1327803</td><td> 6      </td><td>210     </td></tr>\n",
       "\t<tr><td>W1328432</td><td>20      </td><td>246     </td></tr>\n",
       "\t<tr><td>W1328505</td><td>20      </td><td>287     </td></tr>\n",
       "\t<tr><td>W1328786</td><td> 1      </td><td> 10     </td></tr>\n",
       "\t<tr><td>W1328985</td><td> 8      </td><td>178     </td></tr>\n",
       "</tbody>\n",
       "</table>\n"
      ],
      "text/latex": [
       "\\begin{tabular}{r|lll}\n",
       " customer\\_id & vst\\_cnt & cust\\_amt\\\\\n",
       "\\hline\n",
       "\t W1327595 &  6       & 188     \\\\\n",
       "\t W1327803 &  6       & 210     \\\\\n",
       "\t W1328432 & 20       & 246     \\\\\n",
       "\t W1328505 & 20       & 287     \\\\\n",
       "\t W1328786 &  1       &  10     \\\\\n",
       "\t W1328985 &  8       & 178     \\\\\n",
       "\\end{tabular}\n"
      ],
      "text/markdown": [
       "\n",
       "| customer_id | vst_cnt | cust_amt |\n",
       "|---|---|---|\n",
       "| W1327595 |  6       | 188      |\n",
       "| W1327803 |  6       | 210      |\n",
       "| W1328432 | 20       | 246      |\n",
       "| W1328505 | 20       | 287      |\n",
       "| W1328786 |  1       |  10      |\n",
       "| W1328985 |  8       | 178      |\n",
       "\n"
      ],
      "text/plain": [
       "  customer_id vst_cnt cust_amt\n",
       "1 W1327595     6      188     \n",
       "2 W1327803     6      210     \n",
       "3 W1328432    20      246     \n",
       "4 W1328505    20      287     \n",
       "5 W1328786     1       10     \n",
       "6 W1328985     8      178     "
      ]
     },
     "metadata": {},
     "output_type": "display_data"
    }
   ],
   "source": [
    "df_sct_graph <- df_cfm_order %>%\n",
    "    group_by(customer_id) %>%\n",
    "    summarise(vst_cnt = sum(visitor_cnt), cust_amt = sum(sales/1000))\n",
    "\n",
    "head(df_sct_graph)"
   ]
  },
  {
   "cell_type": "code",
   "execution_count": 8,
   "id": "practical-frontier",
   "metadata": {},
   "outputs": [
    {
     "name": "stderr",
     "output_type": "stream",
     "text": [
      "Warning message:\n",
      "\"Removed 5 rows containing missing values (geom_point).\""
     ]
    },
    {
     "data": {
      "image/png": "[encoded data removed]",
      "text/plain": [
       "plot without title"
      ]
     },
     "metadata": {},
     "output_type": "display_data"
    }
   ],
   "source": [
    "ggplot(data = df_sct_graph, aes(x = vst_cnt, y = cust_amt))+\n",
    "    geom_point()+\n",
    "    xlim(0, 50) + ylim(0, 500)"
   ]
  },
  {
   "cell_type": "code",
   "execution_count": 9,
   "id": "oriented-clone",
   "metadata": {},
   "outputs": [
    {
     "data": {
      "text/html": [
       "<table>\n",
       "<thead><tr><th scope=col>customer_id</th><th scope=col>customer_name</th><th scope=col>phone_number</th><th scope=col>email</th><th scope=col>first_reg_date</th><th scope=col>sex_code</th><th scope=col>birth</th><th scope=col>job</th><th scope=col>zip_code</th></tr></thead>\n",
       "<tbody>\n",
       "\t<tr><td>W1346506          </td><td>고객71            </td><td>010-1111-1181     </td><td>scust71@sfnb.co.kr</td><td>19/09/01          </td><td>F                 </td><td>19820922          </td><td>자영업            </td><td>122100            </td></tr>\n",
       "\t<tr><td>W1347648          </td><td>고객72            </td><td>010-1111-1182     </td><td>scust72@sfnb.co.kr</td><td>19/09/04          </td><td>M                 </td><td>19940812          </td><td>학생              </td><td>140100            </td></tr>\n",
       "\t<tr><td>W1347756          </td><td>고객73            </td><td>010-1111-1183     </td><td>scust73@sfnb.co.kr</td><td>19/09/05          </td><td>M                 </td><td>19931217          </td><td>NA                </td><td>152100            </td></tr>\n",
       "\t<tr><td>W1347984          </td><td>고객74            </td><td>010-1111-1184     </td><td>scust74@sfnb.co.kr</td><td>19/09/06          </td><td>M                 </td><td>19810822          </td><td>자영업            </td><td>130100            </td></tr>\n",
       "\t<tr><td>W1348303          </td><td>고객75            </td><td>010-1111-1185     </td><td>scust75@sfnb.co.kr</td><td>19/09/07          </td><td>M                 </td><td>19900611          </td><td>NA                </td><td>121100            </td></tr>\n",
       "\t<tr><td>W1348424          </td><td>고객76            </td><td>010-1111-1186     </td><td>scust76@sfnb.co.kr</td><td>19/09/08          </td><td>M                 </td><td>19730422          </td><td>NA                </td><td>139100            </td></tr>\n",
       "</tbody>\n",
       "</table>\n"
      ],
      "text/latex": [
       "\\begin{tabular}{r|lllllllll}\n",
       " customer\\_id & customer\\_name & phone\\_number & email & first\\_reg\\_date & sex\\_code & birth & job & zip\\_code\\\\\n",
       "\\hline\n",
       "\t W1346506           & 고객71             & 010-1111-1181      & scust71@sfnb.co.kr & 19/09/01           & F                  & 19820922           & 자영업             & 122100            \\\\\n",
       "\t W1347648           & 고객72             & 010-1111-1182      & scust72@sfnb.co.kr & 19/09/04           & M                  & 19940812           & 학생               & 140100            \\\\\n",
       "\t W1347756           & 고객73             & 010-1111-1183      & scust73@sfnb.co.kr & 19/09/05           & M                  & 19931217           & NA                 & 152100            \\\\\n",
       "\t W1347984           & 고객74             & 010-1111-1184      & scust74@sfnb.co.kr & 19/09/06           & M                  & 19810822           & 자영업             & 130100            \\\\\n",
       "\t W1348303           & 고객75             & 010-1111-1185      & scust75@sfnb.co.kr & 19/09/07           & M                  & 19900611           & NA                 & 121100            \\\\\n",
       "\t W1348424           & 고객76             & 010-1111-1186      & scust76@sfnb.co.kr & 19/09/08           & M                  & 19730422           & NA                 & 139100            \\\\\n",
       "\\end{tabular}\n"
      ],
      "text/markdown": [
       "\n",
       "| customer_id | customer_name | phone_number | email | first_reg_date | sex_code | birth | job | zip_code |\n",
       "|---|---|---|---|---|---|---|---|---|\n",
       "| W1346506           | 고객71             | 010-1111-1181      | scust71@sfnb.co.kr | 19/09/01           | F                  | 19820922           | 자영업             | 122100             |\n",
       "| W1347648           | 고객72             | 010-1111-1182      | scust72@sfnb.co.kr | 19/09/04           | M                  | 19940812           | 학생               | 140100             |\n",
       "| W1347756           | 고객73             | 010-1111-1183      | scust73@sfnb.co.kr | 19/09/05           | M                  | 19931217           | NA                 | 152100             |\n",
       "| W1347984           | 고객74             | 010-1111-1184      | scust74@sfnb.co.kr | 19/09/06           | M                  | 19810822           | 자영업             | 130100             |\n",
       "| W1348303           | 고객75             | 010-1111-1185      | scust75@sfnb.co.kr | 19/09/07           | M                  | 19900611           | NA                 | 121100             |\n",
       "| W1348424           | 고객76             | 010-1111-1186      | scust76@sfnb.co.kr | 19/09/08           | M                  | 19730422           | NA                 | 139100             |\n",
       "\n"
      ],
      "text/plain": [
       "  customer_id customer_name phone_number  email              first_reg_date\n",
       "1 W1346506    고객71        010-1111-1181 scust71@sfnb.co.kr 19/09/01      \n",
       "2 W1347648    고객72        010-1111-1182 scust72@sfnb.co.kr 19/09/04      \n",
       "3 W1347756    고객73        010-1111-1183 scust73@sfnb.co.kr 19/09/05      \n",
       "4 W1347984    고객74        010-1111-1184 scust74@sfnb.co.kr 19/09/06      \n",
       "5 W1348303    고객75        010-1111-1185 scust75@sfnb.co.kr 19/09/07      \n",
       "6 W1348424    고객76        010-1111-1186 scust76@sfnb.co.kr 19/09/08      \n",
       "  sex_code birth    job    zip_code\n",
       "1 F        19820922 자영업 122100  \n",
       "2 M        19940812 학생   140100  \n",
       "3 M        19931217 NA     152100  \n",
       "4 M        19810822 자영업 130100  \n",
       "5 M        19900611 NA     121100  \n",
       "6 M        19730422 NA     139100  "
      ]
     },
     "metadata": {},
     "output_type": "display_data"
    }
   ],
   "source": [
    "head(customer_r)"
   ]
  },
  {
   "cell_type": "code",
   "execution_count": 10,
   "id": "critical-croatia",
   "metadata": {},
   "outputs": [
    {
     "data": {
      "text/html": [
       "<table>\n",
       "<thead><tr><th scope=col>vst_cnt</th><th scope=col>cust_amt</th><th scope=col>sex_code</th></tr></thead>\n",
       "<tbody>\n",
       "\t<tr><td> 6 </td><td>188</td><td>M  </td></tr>\n",
       "\t<tr><td> 6 </td><td>210</td><td>M  </td></tr>\n",
       "\t<tr><td>20 </td><td>246</td><td>M  </td></tr>\n",
       "\t<tr><td>20 </td><td>287</td><td>F  </td></tr>\n",
       "\t<tr><td> 1 </td><td> 10</td><td>M  </td></tr>\n",
       "\t<tr><td> 8 </td><td>178</td><td>M  </td></tr>\n",
       "</tbody>\n",
       "</table>\n"
      ],
      "text/latex": [
       "\\begin{tabular}{r|lll}\n",
       " vst\\_cnt & cust\\_amt & sex\\_code\\\\\n",
       "\\hline\n",
       "\t  6  & 188 & M  \\\\\n",
       "\t  6  & 210 & M  \\\\\n",
       "\t 20  & 246 & M  \\\\\n",
       "\t 20  & 287 & F  \\\\\n",
       "\t  1  &  10 & M  \\\\\n",
       "\t  8  & 178 & M  \\\\\n",
       "\\end{tabular}\n"
      ],
      "text/markdown": [
       "\n",
       "| vst_cnt | cust_amt | sex_code |\n",
       "|---|---|---|\n",
       "|  6  | 188 | M   |\n",
       "|  6  | 210 | M   |\n",
       "| 20  | 246 | M   |\n",
       "| 20  | 287 | F   |\n",
       "|  1  |  10 | M   |\n",
       "|  8  | 178 | M   |\n",
       "\n"
      ],
      "text/plain": [
       "  vst_cnt cust_amt sex_code\n",
       "1  6      188      M       \n",
       "2  6      210      M       \n",
       "3 20      246      M       \n",
       "4 20      287      F       \n",
       "5  1       10      M       \n",
       "6  8      178      M       "
      ]
     },
     "metadata": {},
     "output_type": "display_data"
    }
   ],
   "source": [
    "df_sct_graph2 <- inner_join(df_sct_graph, customer_r, by = \"customer_id\") %>%\n",
    "    select(vst_cnt, cust_amt, sex_code)\n",
    "\n",
    "head(df_sct_graph2)     # 데이터셋 확인"
   ]
  },
  {
   "cell_type": "code",
   "execution_count": 11,
   "id": "comparative-armor",
   "metadata": {},
   "outputs": [
    {
     "name": "stderr",
     "output_type": "stream",
     "text": [
      "Warning message:\n",
      "\"Removed 5 rows containing missing values (geom_point).\""
     ]
    },
    {
     "data": {
      "image/png": "[encoded data removed]",
      "text/plain": [
       "plot without title"
      ]
     },
     "metadata": {},
     "output_type": "display_data"
    }
   ],
   "source": [
    "ggplot(data = df_sct_graph2, aes(x = vst_cnt, y = cust_amt, color = sex_code)) +\n",
    "    geom_point() +\n",
    "    xlim(0, 50) +\n",
    "    ylim(0, 500)"
   ]
  },
  {
   "cell_type": "code",
   "execution_count": 12,
   "id": "insured-exclusion",
   "metadata": {},
   "outputs": [
    {
     "ename": "ERROR",
     "evalue": "Error in UseMethod(\"arrange\"): 클래스 \"function\"의 객체에 적용된 'arrange'에 사용할수 있는 메소드가 없습니다\n",
     "output_type": "error",
     "traceback": [
      "Error in UseMethod(\"arrange\"): 클래스 \"function\"의 객체에 적용된 'arrange'에 사용할수 있는 메소드가 없습니다\nTraceback:\n",
      "1. df_branch_sales_1 %>% group_by(branch) %>% summarise(amt = sum(sales)/1000) %>% \n .     arrange(desc)(amt)",
      "2. withVisible(eval(quote(`_fseq`(`_lhs`)), env, env))",
      "3. eval(quote(`_fseq`(`_lhs`)), env, env)",
      "4. eval(quote(`_fseq`(`_lhs`)), env, env)",
      "5. `_fseq`(`_lhs`)",
      "6. freduce(value, `_function_list`)",
      "7. withVisible(function_list[[k]](value))",
      "8. function_list[[k]](value)",
      "9. arrange(desc)"
     ]
    }
   ],
   "source": [
    "df_branch_sales_1  <-  inner_join(reservation_r,order_info_r,by= \"reserv_no\") %>%\n",
    "select(branch,sales)%>%\n",
    "arrange(branch,sales)\n",
    "\n",
    "df_branch_sales_2 <- df_branch_sales_1%>% group_by(branch)%>%\n",
    "summarise(amt = sum(sales) / 1000) %>%\n",
    "arrange(desc)(amt)\n",
    "\n",
    "df_branch_sales_2"
   ]
  },
  {
   "cell_type": "code",
   "execution_count": 13,
   "id": "electoral-mining",
   "metadata": {},
   "outputs": [
    {
     "ename": "ERROR",
     "evalue": "Error in ggplot(df_branch_sales_2, aes(x = branch, y = amt)): 객체 'df_branch_sales_2'를 찾을 수 없습니다\n",
     "output_type": "error",
     "traceback": [
      "Error in ggplot(df_branch_sales_2, aes(x = branch, y = amt)): 객체 'df_branch_sales_2'를 찾을 수 없습니다\nTraceback:\n",
      "1. ggplot(df_branch_sales_2, aes(x = branch, y = amt))"
     ]
    }
   ],
   "source": [
    "ggplot(df_branch_sales_2, aes(x = branch, y = amt)) + geom_bar(stat = \"identity\")"
   ]
  },
  {
   "cell_type": "code",
   "execution_count": 14,
   "id": "informational-maldives",
   "metadata": {},
   "outputs": [
    {
     "ename": "ERROR",
     "evalue": "Error in ggplot(df_branch_sales_2, aes(x = reorder(branch, -amt), y = amt, : 객체 'df_branch_sales_2'를 찾을 수 없습니다\n",
     "output_type": "error",
     "traceback": [
      "Error in ggplot(df_branch_sales_2, aes(x = reorder(branch, -amt), y = amt, : 객체 'df_branch_sales_2'를 찾을 수 없습니다\nTraceback:\n",
      "1. ggplot(df_branch_sales_2, aes(x = reorder(branch, -amt), y = amt, \n .     fill = branch))"
     ]
    }
   ],
   "source": [
    "ggplot(df_branch_sales_2, aes(x = reorder(branch, -amt), y = amt, fill = branch)) +\n",
    "    geom_bar(stat = \"identity\")"
   ]
  },
  {
   "cell_type": "code",
   "execution_count": 15,
   "id": "union-window",
   "metadata": {},
   "outputs": [
    {
     "ename": "ERROR",
     "evalue": "Error in ggplot(df_branch_sales_2, aes(x = reorder(branch, -amt), y = amt, : 객체 'df_branch_sales_2'를 찾을 수 없습니다\n",
     "output_type": "error",
     "traceback": [
      "Error in ggplot(df_branch_sales_2, aes(x = reorder(branch, -amt), y = amt, : 객체 'df_branch_sales_2'를 찾을 수 없습니다\nTraceback:\n",
      "1. ggplot(df_branch_sales_2, aes(x = reorder(branch, -amt), y = amt, \n .     fill = branch))"
     ]
    }
   ],
   "source": [
    "gg <- ggplot(df_branch_sales_2, aes(x = reorder(branch, -amt), y = amt, fill = branch)) +\n",
    "    geom_bar(stat = \"identity\") +\n",
    "    xlim(c(\"강남\", \"영등포\", \"종로\", \"용산\", \"서초\", \"성북\"))\n",
    "gg"
   ]
  },
  {
   "cell_type": "code",
   "execution_count": 16,
   "id": "organizational-matthew",
   "metadata": {},
   "outputs": [
    {
     "ename": "ERROR",
     "evalue": "Error in ggplot(df_branch_sales_2, aes(x = reorder(branch, -amt), y = amt, : 객체 'df_branch_sales_2'를 찾을 수 없습니다\n",
     "output_type": "error",
     "traceback": [
      "Error in ggplot(df_branch_sales_2, aes(x = reorder(branch, -amt), y = amt, : 객체 'df_branch_sales_2'를 찾을 수 없습니다\nTraceback:\n",
      "1. ggplot(df_branch_sales_2, aes(x = reorder(branch, -amt), y = amt, \n .     fill = branch))"
     ]
    }
   ],
   "source": [
    "gg <- ggplot(df_branch_sales_2,aes(x= reorder(branch,-amt),y = amt,fill= branch))+ \n",
    "geom_bar(stat = \"identity\")+\n",
    "xlim(c(\"서초\",\"용산\",\"종로\",\"영등포\",\"강남\"))\n",
    "\n",
    "gg <-  gg+coord_flip()\n",
    "gg"
   ]
  },
  {
   "cell_type": "code",
   "execution_count": 17,
   "id": "abandoned-pipeline",
   "metadata": {},
   "outputs": [
    {
     "ename": "ERROR",
     "evalue": "Error in eval(expr, envir, enclos): 객체 'gg'를 찾을 수 없습니다\n",
     "output_type": "error",
     "traceback": [
      "Error in eval(expr, envir, enclos): 객체 'gg'를 찾을 수 없습니다\nTraceback:\n"
     ]
    }
   ],
   "source": [
    "gg <- gg + theme(legend.position = \"bottom\")\n",
    "gg"
   ]
  },
  {
   "cell_type": "code",
   "execution_count": 18,
   "id": "excellent-browse",
   "metadata": {},
   "outputs": [
    {
     "data": {
      "image/png": "[encoded data removed]",
      "text/plain": [
       "plot without title"
      ]
     },
     "metadata": {},
     "output_type": "display_data"
    }
   ],
   "source": [
    "gg <- ggplot(data = reservation_r, aes(x = branch)) + geom_bar(stat = \"count\")\n",
    "gg"
   ]
  },
  {
   "cell_type": "code",
   "execution_count": 19,
   "id": "baking-hamburg",
   "metadata": {},
   "outputs": [
    {
     "data": {
      "image/png": "[encoded data removed]",
      "text/plain": [
       "plot without title"
      ]
     },
     "metadata": {},
     "output_type": "display_data"
    }
   ],
   "source": [
    "gg <- gg + labs(title = \"지점별 예약 건수\", x = \"지점\", y = \"예약건\")\n",
    "gg"
   ]
  },
  {
   "cell_type": "code",
   "execution_count": 20,
   "id": "wound-interest",
   "metadata": {},
   "outputs": [],
   "source": [
    "gg <- gg + theme(axis.title.x = element_text(size = 15,\n",
    "                                             color = \"blue\",\n",
    "                                             face = 'bold',\n",
    "                                             angle = 0) ,\n",
    "                 axis.title.y = element_text(size = 13,\n",
    "                                             color = 'red',\n",
    "                                             angle = 90)\n",
    "                )"
   ]
  },
  {
   "cell_type": "code",
   "execution_count": 21,
   "id": "pointed-kernel",
   "metadata": {},
   "outputs": [
    {
     "data": {
      "image/png": "[encoded data removed]",
      "text/plain": [
       "plot without title"
      ]
     },
     "metadata": {},
     "output_type": "display_data"
    }
   ],
   "source": [
    "gg"
   ]
  },
  {
   "cell_type": "code",
   "execution_count": 22,
   "id": "hired-telling",
   "metadata": {},
   "outputs": [
    {
     "data": {
      "image/png": "[encoded data removed]",
      "text/plain": [
       "plot without title"
      ]
     },
     "metadata": {},
     "output_type": "display_data"
    }
   ],
   "source": [
    "ggplot(data = order_info_r, aes(x = sales/1000)) + geom_histogram(binwidth = 5)"
   ]
  },
  {
   "cell_type": "code",
   "execution_count": 23,
   "id": "forward-basics",
   "metadata": {},
   "outputs": [
    {
     "name": "stderr",
     "output_type": "stream",
     "text": [
      "`summarise()` has grouped output by 'item_id'. You can override using the `.groups` argument.\n"
     ]
    },
    {
     "data": {
      "text/html": [
       "<table>\n",
       "<thead><tr><th scope=col>item_id</th><th scope=col>amt_item</th><th scope=col>product_name</th></tr></thead>\n",
       "<tbody>\n",
       "\t<tr><td>M0001      </td><td>5808       </td><td>SPECIAL_SET</td></tr>\n",
       "\t<tr><td>M0002      </td><td>1968       </td><td>PASTA      </td></tr>\n",
       "\t<tr><td>M0003      </td><td>1666       </td><td>PIZZA      </td></tr>\n",
       "\t<tr><td>M0004      </td><td>1625       </td><td>SEA_FOOD   </td></tr>\n",
       "\t<tr><td>M0005      </td><td>9380       </td><td>STEAK      </td></tr>\n",
       "\t<tr><td>M0006      </td><td>2075       </td><td>SALAD_BAR  </td></tr>\n",
       "\t<tr><td>M0007      </td><td> 525       </td><td>SALAD      </td></tr>\n",
       "\t<tr><td>M0008      </td><td> 610       </td><td>SANDWICH   </td></tr>\n",
       "\t<tr><td>M0009      </td><td> 856       </td><td>WINE       </td></tr>\n",
       "\t<tr><td>M0010      </td><td> 444       </td><td>JUICE      </td></tr>\n",
       "</tbody>\n",
       "</table>\n"
      ],
      "text/latex": [
       "\\begin{tabular}{r|lll}\n",
       " item\\_id & amt\\_item & product\\_name\\\\\n",
       "\\hline\n",
       "\t M0001         & 5808          & SPECIAL\\_SET\\\\\n",
       "\t M0002       & 1968        & PASTA      \\\\\n",
       "\t M0003       & 1666        & PIZZA      \\\\\n",
       "\t M0004         & 1625          & SEA\\_FOOD   \\\\\n",
       "\t M0005       & 9380        & STEAK      \\\\\n",
       "\t M0006         & 2075          & SALAD\\_BAR  \\\\\n",
       "\t M0007       &  525        & SALAD      \\\\\n",
       "\t M0008       &  610        & SANDWICH   \\\\\n",
       "\t M0009       &  856        & WINE       \\\\\n",
       "\t M0010       &  444        & JUICE      \\\\\n",
       "\\end{tabular}\n"
      ],
      "text/markdown": [
       "\n",
       "| item_id | amt_item | product_name |\n",
       "|---|---|---|\n",
       "| M0001       | 5808        | SPECIAL_SET |\n",
       "| M0002       | 1968        | PASTA       |\n",
       "| M0003       | 1666        | PIZZA       |\n",
       "| M0004       | 1625        | SEA_FOOD    |\n",
       "| M0005       | 9380        | STEAK       |\n",
       "| M0006       | 2075        | SALAD_BAR   |\n",
       "| M0007       |  525        | SALAD       |\n",
       "| M0008       |  610        | SANDWICH    |\n",
       "| M0009       |  856        | WINE        |\n",
       "| M0010       |  444        | JUICE       |\n",
       "\n"
      ],
      "text/plain": [
       "   item_id amt_item product_name\n",
       "1  M0001   5808     SPECIAL_SET \n",
       "2  M0002   1968     PASTA       \n",
       "3  M0003   1666     PIZZA       \n",
       "4  M0004   1625     SEA_FOOD    \n",
       "5  M0005   9380     STEAK       \n",
       "6  M0006   2075     SALAD_BAR   \n",
       "7  M0007    525     SALAD       \n",
       "8  M0008    610     SANDWICH    \n",
       "9  M0009    856     WINE        \n",
       "10 M0010    444     JUICE       "
      ]
     },
     "metadata": {},
     "output_type": "display_data"
    }
   ],
   "source": [
    "df_pie_graph <- inner_join(order_info_r, item_r, by = \"item_id\") %>%\n",
    "    group_by(item_id, product_name) %>%\n",
    "    summarise(amt_item = sum(sales/1000)) %>%\n",
    "    select(item_id, amt_item, product_name)\n",
    "\n",
    "df_pie_graph"
   ]
  },
  {
   "cell_type": "code",
   "execution_count": 24,
   "id": "signal-manor",
   "metadata": {},
   "outputs": [
    {
     "data": {
      "image/png": "[encoded data removed]",
      "text/plain": [
       "plot without title"
      ]
     },
     "metadata": {},
     "output_type": "display_data"
    }
   ],
   "source": [
    "zz<- ggplot(df_pie_graph,aes(x = \"\",y =amt_item,fill=product_name)) +\n",
    "geom_bar(stat = \"identity\")\n",
    "zz"
   ]
  },
  {
   "cell_type": "code",
   "execution_count": 25,
   "id": "classical-constitution",
   "metadata": {},
   "outputs": [
    {
     "data": {
      "image/png": "[encoded data removed]",
      "text/plain": [
       "plot without title"
      ]
     },
     "metadata": {},
     "output_type": "display_data"
    }
   ],
   "source": [
    "gg <- ggplot(df_pie_graph,aes(x = \"\",y =amt_item,fill=product_name)) +\n",
    "geom_bar(stat = \"identity\") +\n",
    "coord_polar(\"y\",start = 0)\n",
    "\n",
    "gg"
   ]
  },
  {
   "cell_type": "code",
   "execution_count": 26,
   "id": "trained-drawing",
   "metadata": {},
   "outputs": [
    {
     "data": {
      "image/png": "[encoded data removed]",
      "text/plain": [
       "plot without title"
      ]
     },
     "metadata": {},
     "output_type": "display_data"
    }
   ],
   "source": [
    "library(RColorBrewer)\n",
    "display.brewer.all()"
   ]
  },
  {
   "cell_type": "code",
   "execution_count": 27,
   "id": "coordinate-importance",
   "metadata": {},
   "outputs": [
    {
     "name": "stderr",
     "output_type": "stream",
     "text": [
      "Warning message in pal_name(palette, type):\n",
      "\"Unknown palette Apples\"Warning message in RColorBrewer::brewer.pal(n, pal):\n",
      "\"n too large, allowed maximum for palette Greens is 9\n",
      "Returning the palette you asked for with that many colors\n",
      "\""
     ]
    },
    {
     "data": {
      "image/png": "[encoded data removed]",
      "text/plain": [
       "plot without title"
      ]
     },
     "metadata": {},
     "output_type": "display_data"
    }
   ],
   "source": [
    "gg <- gg + scale_fill_brewer(palette=\"Apples\")\n",
    "\n",
    "gg"
   ]
  },
  {
   "cell_type": "code",
   "execution_count": 28,
   "id": "premier-cooperation",
   "metadata": {},
   "outputs": [
    {
     "data": {
      "text/html": [
       "<table>\n",
       "<thead><tr><th scope=col>reserv_no</th><th scope=col>amt_daily</th></tr></thead>\n",
       "<tbody>\n",
       "\t<tr><td>2019060301</td><td>140       </td></tr>\n",
       "\t<tr><td>2019060601</td><td>152       </td></tr>\n",
       "\t<tr><td>2019060701</td><td> 48       </td></tr>\n",
       "\t<tr><td>2019061601</td><td>105       </td></tr>\n",
       "\t<tr><td>2019061801</td><td> 48       </td></tr>\n",
       "\t<tr><td>2019062001</td><td> 10       </td></tr>\n",
       "\t<tr><td>2019062201</td><td> 48       </td></tr>\n",
       "\t<tr><td>2019062601</td><td>  8       </td></tr>\n",
       "\t<tr><td>2019062901</td><td> 54       </td></tr>\n",
       "\t<tr><td>2019070101</td><td> 50       </td></tr>\n",
       "\t<tr><td>2019070102</td><td>100       </td></tr>\n",
       "\t<tr><td>2019070302</td><td> 50       </td></tr>\n",
       "\t<tr><td>2019070501</td><td> 48       </td></tr>\n",
       "\t<tr><td>2019070702</td><td> 46       </td></tr>\n",
       "\t<tr><td>2019070801</td><td> 70       </td></tr>\n",
       "\t<tr><td>2019071001</td><td> 48       </td></tr>\n",
       "\t<tr><td>2019071002</td><td>105       </td></tr>\n",
       "\t<tr><td>2019071101</td><td> 58       </td></tr>\n",
       "\t<tr><td>2019071201</td><td> 49       </td></tr>\n",
       "\t<tr><td>2019071401</td><td> 17       </td></tr>\n",
       "\t<tr><td>2019071501</td><td> 36       </td></tr>\n",
       "\t<tr><td>2019071601</td><td> 75       </td></tr>\n",
       "\t<tr><td>2019071602</td><td> 10       </td></tr>\n",
       "\t<tr><td>2019071801</td><td>140       </td></tr>\n",
       "\t<tr><td>2019071901</td><td> 73       </td></tr>\n",
       "\t<tr><td>2019072002</td><td> 10       </td></tr>\n",
       "\t<tr><td>2019072101</td><td>  6       </td></tr>\n",
       "\t<tr><td>2019072102</td><td> 17       </td></tr>\n",
       "\t<tr><td>2019072203</td><td> 50       </td></tr>\n",
       "\t<tr><td>2019072401</td><td>105       </td></tr>\n",
       "\t<tr><td>...</td><td>...</td></tr>\n",
       "\t<tr><td>2019122603</td><td> 35       </td></tr>\n",
       "\t<tr><td>2019122604</td><td>264       </td></tr>\n",
       "\t<tr><td>2019122605</td><td>100       </td></tr>\n",
       "\t<tr><td>2019122701</td><td>100       </td></tr>\n",
       "\t<tr><td>2019122702</td><td> 86       </td></tr>\n",
       "\t<tr><td>2019122703</td><td> 86       </td></tr>\n",
       "\t<tr><td>2019122704</td><td> 48       </td></tr>\n",
       "\t<tr><td>2019122706</td><td> 24       </td></tr>\n",
       "\t<tr><td>2019122801</td><td>215       </td></tr>\n",
       "\t<tr><td>2019122802</td><td> 60       </td></tr>\n",
       "\t<tr><td>2019122803</td><td> 50       </td></tr>\n",
       "\t<tr><td>2019122804</td><td> 86       </td></tr>\n",
       "\t<tr><td>2019122805</td><td> 17       </td></tr>\n",
       "\t<tr><td>2019122806</td><td>240       </td></tr>\n",
       "\t<tr><td>2019122807</td><td> 34       </td></tr>\n",
       "\t<tr><td>2019122808</td><td> 10       </td></tr>\n",
       "\t<tr><td>2019122809</td><td>140       </td></tr>\n",
       "\t<tr><td>2019122810</td><td> 86       </td></tr>\n",
       "\t<tr><td>2019122901</td><td>172       </td></tr>\n",
       "\t<tr><td>2019122902</td><td> 34       </td></tr>\n",
       "\t<tr><td>2019123002</td><td> 51       </td></tr>\n",
       "\t<tr><td>2019123003</td><td>192       </td></tr>\n",
       "\t<tr><td>2019123005</td><td> 70       </td></tr>\n",
       "\t<tr><td>2019123006</td><td> 43       </td></tr>\n",
       "\t<tr><td>2019123101</td><td>140       </td></tr>\n",
       "\t<tr><td>2019123102</td><td>100       </td></tr>\n",
       "\t<tr><td>2019123104</td><td> 30       </td></tr>\n",
       "\t<tr><td>2019123105</td><td>192       </td></tr>\n",
       "\t<tr><td>2019123106</td><td>210       </td></tr>\n",
       "\t<tr><td>2019123107</td><td>172       </td></tr>\n",
       "</tbody>\n",
       "</table>\n"
      ],
      "text/latex": [
       "\\begin{tabular}{r|ll}\n",
       " reserv\\_no & amt\\_daily\\\\\n",
       "\\hline\n",
       "\t 2019060301 & 140       \\\\\n",
       "\t 2019060601 & 152       \\\\\n",
       "\t 2019060701 &  48       \\\\\n",
       "\t 2019061601 & 105       \\\\\n",
       "\t 2019061801 &  48       \\\\\n",
       "\t 2019062001 &  10       \\\\\n",
       "\t 2019062201 &  48       \\\\\n",
       "\t 2019062601 &   8       \\\\\n",
       "\t 2019062901 &  54       \\\\\n",
       "\t 2019070101 &  50       \\\\\n",
       "\t 2019070102 & 100       \\\\\n",
       "\t 2019070302 &  50       \\\\\n",
       "\t 2019070501 &  48       \\\\\n",
       "\t 2019070702 &  46       \\\\\n",
       "\t 2019070801 &  70       \\\\\n",
       "\t 2019071001 &  48       \\\\\n",
       "\t 2019071002 & 105       \\\\\n",
       "\t 2019071101 &  58       \\\\\n",
       "\t 2019071201 &  49       \\\\\n",
       "\t 2019071401 &  17       \\\\\n",
       "\t 2019071501 &  36       \\\\\n",
       "\t 2019071601 &  75       \\\\\n",
       "\t 2019071602 &  10       \\\\\n",
       "\t 2019071801 & 140       \\\\\n",
       "\t 2019071901 &  73       \\\\\n",
       "\t 2019072002 &  10       \\\\\n",
       "\t 2019072101 &   6       \\\\\n",
       "\t 2019072102 &  17       \\\\\n",
       "\t 2019072203 &  50       \\\\\n",
       "\t 2019072401 & 105       \\\\\n",
       "\t ... & ...\\\\\n",
       "\t 2019122603 &  35       \\\\\n",
       "\t 2019122604 & 264       \\\\\n",
       "\t 2019122605 & 100       \\\\\n",
       "\t 2019122701 & 100       \\\\\n",
       "\t 2019122702 &  86       \\\\\n",
       "\t 2019122703 &  86       \\\\\n",
       "\t 2019122704 &  48       \\\\\n",
       "\t 2019122706 &  24       \\\\\n",
       "\t 2019122801 & 215       \\\\\n",
       "\t 2019122802 &  60       \\\\\n",
       "\t 2019122803 &  50       \\\\\n",
       "\t 2019122804 &  86       \\\\\n",
       "\t 2019122805 &  17       \\\\\n",
       "\t 2019122806 & 240       \\\\\n",
       "\t 2019122807 &  34       \\\\\n",
       "\t 2019122808 &  10       \\\\\n",
       "\t 2019122809 & 140       \\\\\n",
       "\t 2019122810 &  86       \\\\\n",
       "\t 2019122901 & 172       \\\\\n",
       "\t 2019122902 &  34       \\\\\n",
       "\t 2019123002 &  51       \\\\\n",
       "\t 2019123003 & 192       \\\\\n",
       "\t 2019123005 &  70       \\\\\n",
       "\t 2019123006 &  43       \\\\\n",
       "\t 2019123101 & 140       \\\\\n",
       "\t 2019123102 & 100       \\\\\n",
       "\t 2019123104 &  30       \\\\\n",
       "\t 2019123105 & 192       \\\\\n",
       "\t 2019123106 & 210       \\\\\n",
       "\t 2019123107 & 172       \\\\\n",
       "\\end{tabular}\n"
      ],
      "text/markdown": [
       "\n",
       "| reserv_no | amt_daily |\n",
       "|---|---|\n",
       "| 2019060301 | 140        |\n",
       "| 2019060601 | 152        |\n",
       "| 2019060701 |  48        |\n",
       "| 2019061601 | 105        |\n",
       "| 2019061801 |  48        |\n",
       "| 2019062001 |  10        |\n",
       "| 2019062201 |  48        |\n",
       "| 2019062601 |   8        |\n",
       "| 2019062901 |  54        |\n",
       "| 2019070101 |  50        |\n",
       "| 2019070102 | 100        |\n",
       "| 2019070302 |  50        |\n",
       "| 2019070501 |  48        |\n",
       "| 2019070702 |  46        |\n",
       "| 2019070801 |  70        |\n",
       "| 2019071001 |  48        |\n",
       "| 2019071002 | 105        |\n",
       "| 2019071101 |  58        |\n",
       "| 2019071201 |  49        |\n",
       "| 2019071401 |  17        |\n",
       "| 2019071501 |  36        |\n",
       "| 2019071601 |  75        |\n",
       "| 2019071602 |  10        |\n",
       "| 2019071801 | 140        |\n",
       "| 2019071901 |  73        |\n",
       "| 2019072002 |  10        |\n",
       "| 2019072101 |   6        |\n",
       "| 2019072102 |  17        |\n",
       "| 2019072203 |  50        |\n",
       "| 2019072401 | 105        |\n",
       "| ... | ... |\n",
       "| 2019122603 |  35        |\n",
       "| 2019122604 | 264        |\n",
       "| 2019122605 | 100        |\n",
       "| 2019122701 | 100        |\n",
       "| 2019122702 |  86        |\n",
       "| 2019122703 |  86        |\n",
       "| 2019122704 |  48        |\n",
       "| 2019122706 |  24        |\n",
       "| 2019122801 | 215        |\n",
       "| 2019122802 |  60        |\n",
       "| 2019122803 |  50        |\n",
       "| 2019122804 |  86        |\n",
       "| 2019122805 |  17        |\n",
       "| 2019122806 | 240        |\n",
       "| 2019122807 |  34        |\n",
       "| 2019122808 |  10        |\n",
       "| 2019122809 | 140        |\n",
       "| 2019122810 |  86        |\n",
       "| 2019122901 | 172        |\n",
       "| 2019122902 |  34        |\n",
       "| 2019123002 |  51        |\n",
       "| 2019123003 | 192        |\n",
       "| 2019123005 |  70        |\n",
       "| 2019123006 |  43        |\n",
       "| 2019123101 | 140        |\n",
       "| 2019123102 | 100        |\n",
       "| 2019123104 |  30        |\n",
       "| 2019123105 | 192        |\n",
       "| 2019123106 | 210        |\n",
       "| 2019123107 | 172        |\n",
       "\n"
      ],
      "text/plain": [
       "    reserv_no  amt_daily\n",
       "1   2019060301 140      \n",
       "2   2019060601 152      \n",
       "3   2019060701  48      \n",
       "4   2019061601 105      \n",
       "5   2019061801  48      \n",
       "6   2019062001  10      \n",
       "7   2019062201  48      \n",
       "8   2019062601   8      \n",
       "9   2019062901  54      \n",
       "10  2019070101  50      \n",
       "11  2019070102 100      \n",
       "12  2019070302  50      \n",
       "13  2019070501  48      \n",
       "14  2019070702  46      \n",
       "15  2019070801  70      \n",
       "16  2019071001  48      \n",
       "17  2019071002 105      \n",
       "18  2019071101  58      \n",
       "19  2019071201  49      \n",
       "20  2019071401  17      \n",
       "21  2019071501  36      \n",
       "22  2019071601  75      \n",
       "23  2019071602  10      \n",
       "24  2019071801 140      \n",
       "25  2019071901  73      \n",
       "26  2019072002  10      \n",
       "27  2019072101   6      \n",
       "28  2019072102  17      \n",
       "29  2019072203  50      \n",
       "30  2019072401 105      \n",
       "... ...        ...      \n",
       "308 2019122603  35      \n",
       "309 2019122604 264      \n",
       "310 2019122605 100      \n",
       "311 2019122701 100      \n",
       "312 2019122702  86      \n",
       "313 2019122703  86      \n",
       "314 2019122704  48      \n",
       "315 2019122706  24      \n",
       "316 2019122801 215      \n",
       "317 2019122802  60      \n",
       "318 2019122803  50      \n",
       "319 2019122804  86      \n",
       "320 2019122805  17      \n",
       "321 2019122806 240      \n",
       "322 2019122807  34      \n",
       "323 2019122808  10      \n",
       "324 2019122809 140      \n",
       "325 2019122810  86      \n",
       "326 2019122901 172      \n",
       "327 2019122902  34      \n",
       "328 2019123002  51      \n",
       "329 2019123003 192      \n",
       "330 2019123005  70      \n",
       "331 2019123006  43      \n",
       "332 2019123101 140      \n",
       "333 2019123102 100      \n",
       "334 2019123104  30      \n",
       "335 2019123105 192      \n",
       "336 2019123106 210      \n",
       "337 2019123107 172      "
      ]
     },
     "metadata": {},
     "output_type": "display_data"
    }
   ],
   "source": [
    "total_amt <- order_info_r %>%\n",
    "    group_by(reserv_no) %>%\n",
    "    summarise(amt_daily = sum(sales/1000)) %>%\n",
    "    arrange(reserv_no)\n",
    "\n",
    "\n",
    "total_amt"
   ]
  },
  {
   "cell_type": "code",
   "execution_count": 29,
   "id": "accomplished-caribbean",
   "metadata": {},
   "outputs": [
    {
     "data": {
      "image/png": "[encoded data removed]",
      "text/plain": [
       "plot without title"
      ]
     },
     "metadata": {},
     "output_type": "display_data"
    }
   ],
   "source": [
    "ggplot(total_amt, aes(x = reserv_no, y = amt_daily, group = 1)) + geom_line()"
   ]
  },
  {
   "cell_type": "code",
   "execution_count": 32,
   "id": "middle-attitude",
   "metadata": {},
   "outputs": [
    {
     "data": {
      "text/html": [
       "<table>\n",
       "<thead><tr><th scope=col>month</th><th scope=col>amt_monthly</th></tr></thead>\n",
       "<tbody>\n",
       "\t<tr><td>201906</td><td>  613 </td></tr>\n",
       "\t<tr><td>201907</td><td> 1744 </td></tr>\n",
       "\t<tr><td>201908</td><td> 1622 </td></tr>\n",
       "\t<tr><td>201909</td><td> 1586 </td></tr>\n",
       "\t<tr><td>201910</td><td> 3333 </td></tr>\n",
       "\t<tr><td>201911</td><td> 5197 </td></tr>\n",
       "\t<tr><td>201912</td><td>10862 </td></tr>\n",
       "</tbody>\n",
       "</table>\n"
      ],
      "text/latex": [
       "\\begin{tabular}{r|ll}\n",
       " month & amt\\_monthly\\\\\n",
       "\\hline\n",
       "\t 201906 &   613 \\\\\n",
       "\t 201907 &  1744 \\\\\n",
       "\t 201908 &  1622 \\\\\n",
       "\t 201909 &  1586 \\\\\n",
       "\t 201910 &  3333 \\\\\n",
       "\t 201911 &  5197 \\\\\n",
       "\t 201912 & 10862 \\\\\n",
       "\\end{tabular}\n"
      ],
      "text/markdown": [
       "\n",
       "| month | amt_monthly |\n",
       "|---|---|\n",
       "| 201906 |   613  |\n",
       "| 201907 |  1744  |\n",
       "| 201908 |  1622  |\n",
       "| 201909 |  1586  |\n",
       "| 201910 |  3333  |\n",
       "| 201911 |  5197  |\n",
       "| 201912 | 10862  |\n",
       "\n"
      ],
      "text/plain": [
       "  month  amt_monthly\n",
       "1 201906   613      \n",
       "2 201907  1744      \n",
       "3 201908  1622      \n",
       "4 201909  1586      \n",
       "5 201910  3333      \n",
       "6 201911  5197      \n",
       "7 201912 10862      "
      ]
     },
     "metadata": {},
     "output_type": "display_data"
    }
   ],
   "source": [
    "total_amt  <- order_info_r %>%\n",
    "    mutate(month = substr(reserv_no,1,6)) %>%\n",
    "    group_by(month)%>%\n",
    "    summarise(amt_monthly = sum(sales/1000))\n",
    "\n",
    "total_amt\n"
   ]
  },
  {
   "cell_type": "code",
   "execution_count": 34,
   "id": "boolean-cross",
   "metadata": {},
   "outputs": [
    {
     "data": {
      "image/png": "[encoded data removed]",
      "text/plain": [
       "plot without title"
      ]
     },
     "metadata": {},
     "output_type": "display_data"
    }
   ],
   "source": [
    "ggplot(total_amt,aes(x=month , y = amt_monthly ,group = 1 ))+ geom_line()"
   ]
  },
  {
   "cell_type": "code",
   "execution_count": 37,
   "id": "ordered-label",
   "metadata": {},
   "outputs": [
    {
     "data": {
      "image/png": "[encoded data removed]",
      "text/plain": [
       "plot without title"
      ]
     },
     "metadata": {},
     "output_type": "display_data"
    }
   ],
   "source": [
    "ggplot(total_amt , aes(x = month , y = amt_monthly , group = 1))+\n",
    "    geom_line()+\n",
    "    geom_point()"
   ]
  },
  {
   "cell_type": "code",
   "execution_count": 41,
   "id": "empirical-equilibrium",
   "metadata": {
    "scrolled": true
   },
   "outputs": [
    {
     "data": {
      "image/png": "[encoded data removed]",
      "text/plain": [
       "plot without title"
      ]
     },
     "metadata": {},
     "output_type": "display_data"
    }
   ],
   "source": [
    "ggplot(total_amt,aes( x = month, y = amt_monthly, group = 1 ,label = amt_monthly)) +\n",
    "    geom_line (color = \"red\", size = 1) +\n",
    "    geom_point(color = \"darkred\", size = 3 )+\n",
    "    geom_text(vjust = 1.5, hjust = 0.5)"
   ]
  },
  {
   "cell_type": "code",
   "execution_count": 58,
   "id": "fatty-valve",
   "metadata": {},
   "outputs": [],
   "source": [
    "df_boxplot_graph  <-  inner_join(order_info_r,item_r,by = \"item_id\")"
   ]
  },
  {
   "cell_type": "code",
   "execution_count": 61,
   "id": "neutral-lounge",
   "metadata": {
    "scrolled": false
   },
   "outputs": [
    {
     "data": {
      "image/png": "[encoded data removed]",
      "text/plain": [
       "plot without title"
      ]
     },
     "metadata": {},
     "output_type": "display_data"
    }
   ],
   "source": [
    "ggplot(df_boxplot_graph,aes(x = product_name , y = sales/1000)) +\n",
    "    geom_boxplot(width = 0.8,outlier.size = 2 , outlier.colour= \"red\") +\n",
    "    labs(title = \"메뉴아이템 상자그림 \",x = \"메뉴\", y = \"매출\")"
   ]
  },
  {
   "cell_type": "code",
   "execution_count": 42,
   "id": "tamil-radiation",
   "metadata": {},
   "outputs": [
    {
     "data": {
      "text/html": [
       "<table>\n",
       "<thead><tr><th></th><th scope=col>len</th><th scope=col>supp</th><th scope=col>dose</th></tr></thead>\n",
       "<tbody>\n",
       "\t<tr><th scope=row>55</th><td>24.8</td><td>OJ  </td><td>2   </td></tr>\n",
       "\t<tr><th scope=row>56</th><td>30.9</td><td>OJ  </td><td>2   </td></tr>\n",
       "\t<tr><th scope=row>57</th><td>26.4</td><td>OJ  </td><td>2   </td></tr>\n",
       "\t<tr><th scope=row>58</th><td>27.3</td><td>OJ  </td><td>2   </td></tr>\n",
       "\t<tr><th scope=row>59</th><td>29.4</td><td>OJ  </td><td>2   </td></tr>\n",
       "\t<tr><th scope=row>60</th><td>23.0</td><td>OJ  </td><td>2   </td></tr>\n",
       "</tbody>\n",
       "</table>\n"
      ],
      "text/latex": [
       "\\begin{tabular}{r|lll}\n",
       "  & len & supp & dose\\\\\n",
       "\\hline\n",
       "\t55 & 24.8 & OJ   & 2   \\\\\n",
       "\t56 & 30.9 & OJ   & 2   \\\\\n",
       "\t57 & 26.4 & OJ   & 2   \\\\\n",
       "\t58 & 27.3 & OJ   & 2   \\\\\n",
       "\t59 & 29.4 & OJ   & 2   \\\\\n",
       "\t60 & 23.0 & OJ   & 2   \\\\\n",
       "\\end{tabular}\n"
      ],
      "text/markdown": [
       "\n",
       "| <!--/--> | len | supp | dose |\n",
       "|---|---|---|---|\n",
       "| 55 | 24.8 | OJ   | 2    |\n",
       "| 56 | 30.9 | OJ   | 2    |\n",
       "| 57 | 26.4 | OJ   | 2    |\n",
       "| 58 | 27.3 | OJ   | 2    |\n",
       "| 59 | 29.4 | OJ   | 2    |\n",
       "| 60 | 23.0 | OJ   | 2    |\n",
       "\n"
      ],
      "text/plain": [
       "   len  supp dose\n",
       "55 24.8 OJ   2   \n",
       "56 30.9 OJ   2   \n",
       "57 26.4 OJ   2   \n",
       "58 27.3 OJ   2   \n",
       "59 29.4 OJ   2   \n",
       "60 23.0 OJ   2   "
      ]
     },
     "metadata": {},
     "output_type": "display_data"
    }
   ],
   "source": [
    "tail(ToothGrowth)"
   ]
  },
  {
   "cell_type": "code",
   "execution_count": 49,
   "id": "musical-equilibrium",
   "metadata": {},
   "outputs": [
    {
     "name": "stderr",
     "output_type": "stream",
     "text": [
      "`summarise()` has grouped output by 'dose'. You can override using the `.groups` argument.\n"
     ]
    },
    {
     "data": {
      "text/html": [
       "<table>\n",
       "<thead><tr><th scope=col>dose</th><th scope=col>sd</th><th scope=col>len + mean(len)</th></tr></thead>\n",
       "<tbody>\n",
       "\t<tr><td>0.5     </td><td>4.499763</td><td>14.805  </td></tr>\n",
       "\t<tr><td>0.5     </td><td>4.499763</td><td>22.105  </td></tr>\n",
       "\t<tr><td>0.5     </td><td>4.499763</td><td>17.905  </td></tr>\n",
       "\t<tr><td>0.5     </td><td>4.499763</td><td>16.405  </td></tr>\n",
       "\t<tr><td>0.5     </td><td>4.499763</td><td>17.005  </td></tr>\n",
       "\t<tr><td>0.5     </td><td>4.499763</td><td>20.605  </td></tr>\n",
       "\t<tr><td>0.5     </td><td>4.499763</td><td>21.805  </td></tr>\n",
       "\t<tr><td>0.5     </td><td>4.499763</td><td>21.805  </td></tr>\n",
       "\t<tr><td>0.5     </td><td>4.499763</td><td>15.805  </td></tr>\n",
       "\t<tr><td>0.5     </td><td>4.499763</td><td>17.605  </td></tr>\n",
       "\t<tr><td>0.5     </td><td>4.499763</td><td>25.805  </td></tr>\n",
       "\t<tr><td>0.5     </td><td>4.499763</td><td>32.105  </td></tr>\n",
       "\t<tr><td>0.5     </td><td>4.499763</td><td>28.205  </td></tr>\n",
       "\t<tr><td>0.5     </td><td>4.499763</td><td>20.305  </td></tr>\n",
       "\t<tr><td>0.5     </td><td>4.499763</td><td>25.105  </td></tr>\n",
       "\t<tr><td>0.5     </td><td>4.499763</td><td>20.605  </td></tr>\n",
       "\t<tr><td>0.5     </td><td>4.499763</td><td>18.805  </td></tr>\n",
       "\t<tr><td>0.5     </td><td>4.499763</td><td>20.005  </td></tr>\n",
       "\t<tr><td>0.5     </td><td>4.499763</td><td>27.105  </td></tr>\n",
       "\t<tr><td>0.5     </td><td>4.499763</td><td>20.305  </td></tr>\n",
       "\t<tr><td>1.0     </td><td>4.415436</td><td>36.235  </td></tr>\n",
       "\t<tr><td>1.0     </td><td>4.415436</td><td>36.235  </td></tr>\n",
       "\t<tr><td>1.0     </td><td>4.415436</td><td>34.935  </td></tr>\n",
       "\t<tr><td>1.0     </td><td>4.415436</td><td>37.035  </td></tr>\n",
       "\t<tr><td>1.0     </td><td>4.415436</td><td>42.235  </td></tr>\n",
       "\t<tr><td>1.0     </td><td>4.415436</td><td>37.035  </td></tr>\n",
       "\t<tr><td>1.0     </td><td>4.415436</td><td>33.335  </td></tr>\n",
       "\t<tr><td>1.0     </td><td>4.415436</td><td>34.235  </td></tr>\n",
       "\t<tr><td>1.0     </td><td>4.415436</td><td>38.535  </td></tr>\n",
       "\t<tr><td>1.0     </td><td>4.415436</td><td>35.235  </td></tr>\n",
       "\t<tr><td>1.0     </td><td>4.415436</td><td>39.435  </td></tr>\n",
       "\t<tr><td>1.0     </td><td>4.415436</td><td>43.035  </td></tr>\n",
       "\t<tr><td>1.0     </td><td>4.415436</td><td>43.335  </td></tr>\n",
       "\t<tr><td>1.0     </td><td>4.415436</td><td>46.135  </td></tr>\n",
       "\t<tr><td>1.0     </td><td>4.415436</td><td>39.735  </td></tr>\n",
       "\t<tr><td>1.0     </td><td>4.415436</td><td>44.935  </td></tr>\n",
       "\t<tr><td>1.0     </td><td>4.415436</td><td>45.535  </td></tr>\n",
       "\t<tr><td>1.0     </td><td>4.415436</td><td>40.935  </td></tr>\n",
       "\t<tr><td>1.0     </td><td>4.415436</td><td>34.235  </td></tr>\n",
       "\t<tr><td>1.0     </td><td>4.415436</td><td>47.035  </td></tr>\n",
       "\t<tr><td>2.0     </td><td>3.774150</td><td>49.700  </td></tr>\n",
       "\t<tr><td>2.0     </td><td>3.774150</td><td>44.600  </td></tr>\n",
       "\t<tr><td>2.0     </td><td>3.774150</td><td>60.000  </td></tr>\n",
       "\t<tr><td>2.0     </td><td>3.774150</td><td>51.600  </td></tr>\n",
       "\t<tr><td>2.0     </td><td>3.774150</td><td>52.500  </td></tr>\n",
       "\t<tr><td>2.0     </td><td>3.774150</td><td>58.600  </td></tr>\n",
       "\t<tr><td>2.0     </td><td>3.774150</td><td>52.800  </td></tr>\n",
       "\t<tr><td>2.0     </td><td>3.774150</td><td>47.600  </td></tr>\n",
       "\t<tr><td>2.0     </td><td>3.774150</td><td>49.400  </td></tr>\n",
       "\t<tr><td>2.0     </td><td>3.774150</td><td>55.600  </td></tr>\n",
       "\t<tr><td>2.0     </td><td>3.774150</td><td>51.600  </td></tr>\n",
       "\t<tr><td>2.0     </td><td>3.774150</td><td>52.500  </td></tr>\n",
       "\t<tr><td>2.0     </td><td>3.774150</td><td>48.500  </td></tr>\n",
       "\t<tr><td>2.0     </td><td>3.774150</td><td>50.600  </td></tr>\n",
       "\t<tr><td>2.0     </td><td>3.774150</td><td>50.900  </td></tr>\n",
       "\t<tr><td>2.0     </td><td>3.774150</td><td>57.000  </td></tr>\n",
       "\t<tr><td>2.0     </td><td>3.774150</td><td>52.500  </td></tr>\n",
       "\t<tr><td>2.0     </td><td>3.774150</td><td>53.400  </td></tr>\n",
       "\t<tr><td>2.0     </td><td>3.774150</td><td>55.500  </td></tr>\n",
       "\t<tr><td>2.0     </td><td>3.774150</td><td>49.100  </td></tr>\n",
       "</tbody>\n",
       "</table>\n"
      ],
      "text/latex": [
       "\\begin{tabular}{r|lll}\n",
       " dose & sd & len + mean(len)\\\\\n",
       "\\hline\n",
       "\t 0.5      & 4.499763 & 14.805  \\\\\n",
       "\t 0.5      & 4.499763 & 22.105  \\\\\n",
       "\t 0.5      & 4.499763 & 17.905  \\\\\n",
       "\t 0.5      & 4.499763 & 16.405  \\\\\n",
       "\t 0.5      & 4.499763 & 17.005  \\\\\n",
       "\t 0.5      & 4.499763 & 20.605  \\\\\n",
       "\t 0.5      & 4.499763 & 21.805  \\\\\n",
       "\t 0.5      & 4.499763 & 21.805  \\\\\n",
       "\t 0.5      & 4.499763 & 15.805  \\\\\n",
       "\t 0.5      & 4.499763 & 17.605  \\\\\n",
       "\t 0.5      & 4.499763 & 25.805  \\\\\n",
       "\t 0.5      & 4.499763 & 32.105  \\\\\n",
       "\t 0.5      & 4.499763 & 28.205  \\\\\n",
       "\t 0.5      & 4.499763 & 20.305  \\\\\n",
       "\t 0.5      & 4.499763 & 25.105  \\\\\n",
       "\t 0.5      & 4.499763 & 20.605  \\\\\n",
       "\t 0.5      & 4.499763 & 18.805  \\\\\n",
       "\t 0.5      & 4.499763 & 20.005  \\\\\n",
       "\t 0.5      & 4.499763 & 27.105  \\\\\n",
       "\t 0.5      & 4.499763 & 20.305  \\\\\n",
       "\t 1.0      & 4.415436 & 36.235  \\\\\n",
       "\t 1.0      & 4.415436 & 36.235  \\\\\n",
       "\t 1.0      & 4.415436 & 34.935  \\\\\n",
       "\t 1.0      & 4.415436 & 37.035  \\\\\n",
       "\t 1.0      & 4.415436 & 42.235  \\\\\n",
       "\t 1.0      & 4.415436 & 37.035  \\\\\n",
       "\t 1.0      & 4.415436 & 33.335  \\\\\n",
       "\t 1.0      & 4.415436 & 34.235  \\\\\n",
       "\t 1.0      & 4.415436 & 38.535  \\\\\n",
       "\t 1.0      & 4.415436 & 35.235  \\\\\n",
       "\t 1.0      & 4.415436 & 39.435  \\\\\n",
       "\t 1.0      & 4.415436 & 43.035  \\\\\n",
       "\t 1.0      & 4.415436 & 43.335  \\\\\n",
       "\t 1.0      & 4.415436 & 46.135  \\\\\n",
       "\t 1.0      & 4.415436 & 39.735  \\\\\n",
       "\t 1.0      & 4.415436 & 44.935  \\\\\n",
       "\t 1.0      & 4.415436 & 45.535  \\\\\n",
       "\t 1.0      & 4.415436 & 40.935  \\\\\n",
       "\t 1.0      & 4.415436 & 34.235  \\\\\n",
       "\t 1.0      & 4.415436 & 47.035  \\\\\n",
       "\t 2.0      & 3.774150 & 49.700  \\\\\n",
       "\t 2.0      & 3.774150 & 44.600  \\\\\n",
       "\t 2.0      & 3.774150 & 60.000  \\\\\n",
       "\t 2.0      & 3.774150 & 51.600  \\\\\n",
       "\t 2.0      & 3.774150 & 52.500  \\\\\n",
       "\t 2.0      & 3.774150 & 58.600  \\\\\n",
       "\t 2.0      & 3.774150 & 52.800  \\\\\n",
       "\t 2.0      & 3.774150 & 47.600  \\\\\n",
       "\t 2.0      & 3.774150 & 49.400  \\\\\n",
       "\t 2.0      & 3.774150 & 55.600  \\\\\n",
       "\t 2.0      & 3.774150 & 51.600  \\\\\n",
       "\t 2.0      & 3.774150 & 52.500  \\\\\n",
       "\t 2.0      & 3.774150 & 48.500  \\\\\n",
       "\t 2.0      & 3.774150 & 50.600  \\\\\n",
       "\t 2.0      & 3.774150 & 50.900  \\\\\n",
       "\t 2.0      & 3.774150 & 57.000  \\\\\n",
       "\t 2.0      & 3.774150 & 52.500  \\\\\n",
       "\t 2.0      & 3.774150 & 53.400  \\\\\n",
       "\t 2.0      & 3.774150 & 55.500  \\\\\n",
       "\t 2.0      & 3.774150 & 49.100  \\\\\n",
       "\\end{tabular}\n"
      ],
      "text/markdown": [
       "\n",
       "| dose | sd | len + mean(len) |\n",
       "|---|---|---|\n",
       "| 0.5      | 4.499763 | 14.805   |\n",
       "| 0.5      | 4.499763 | 22.105   |\n",
       "| 0.5      | 4.499763 | 17.905   |\n",
       "| 0.5      | 4.499763 | 16.405   |\n",
       "| 0.5      | 4.499763 | 17.005   |\n",
       "| 0.5      | 4.499763 | 20.605   |\n",
       "| 0.5      | 4.499763 | 21.805   |\n",
       "| 0.5      | 4.499763 | 21.805   |\n",
       "| 0.5      | 4.499763 | 15.805   |\n",
       "| 0.5      | 4.499763 | 17.605   |\n",
       "| 0.5      | 4.499763 | 25.805   |\n",
       "| 0.5      | 4.499763 | 32.105   |\n",
       "| 0.5      | 4.499763 | 28.205   |\n",
       "| 0.5      | 4.499763 | 20.305   |\n",
       "| 0.5      | 4.499763 | 25.105   |\n",
       "| 0.5      | 4.499763 | 20.605   |\n",
       "| 0.5      | 4.499763 | 18.805   |\n",
       "| 0.5      | 4.499763 | 20.005   |\n",
       "| 0.5      | 4.499763 | 27.105   |\n",
       "| 0.5      | 4.499763 | 20.305   |\n",
       "| 1.0      | 4.415436 | 36.235   |\n",
       "| 1.0      | 4.415436 | 36.235   |\n",
       "| 1.0      | 4.415436 | 34.935   |\n",
       "| 1.0      | 4.415436 | 37.035   |\n",
       "| 1.0      | 4.415436 | 42.235   |\n",
       "| 1.0      | 4.415436 | 37.035   |\n",
       "| 1.0      | 4.415436 | 33.335   |\n",
       "| 1.0      | 4.415436 | 34.235   |\n",
       "| 1.0      | 4.415436 | 38.535   |\n",
       "| 1.0      | 4.415436 | 35.235   |\n",
       "| 1.0      | 4.415436 | 39.435   |\n",
       "| 1.0      | 4.415436 | 43.035   |\n",
       "| 1.0      | 4.415436 | 43.335   |\n",
       "| 1.0      | 4.415436 | 46.135   |\n",
       "| 1.0      | 4.415436 | 39.735   |\n",
       "| 1.0      | 4.415436 | 44.935   |\n",
       "| 1.0      | 4.415436 | 45.535   |\n",
       "| 1.0      | 4.415436 | 40.935   |\n",
       "| 1.0      | 4.415436 | 34.235   |\n",
       "| 1.0      | 4.415436 | 47.035   |\n",
       "| 2.0      | 3.774150 | 49.700   |\n",
       "| 2.0      | 3.774150 | 44.600   |\n",
       "| 2.0      | 3.774150 | 60.000   |\n",
       "| 2.0      | 3.774150 | 51.600   |\n",
       "| 2.0      | 3.774150 | 52.500   |\n",
       "| 2.0      | 3.774150 | 58.600   |\n",
       "| 2.0      | 3.774150 | 52.800   |\n",
       "| 2.0      | 3.774150 | 47.600   |\n",
       "| 2.0      | 3.774150 | 49.400   |\n",
       "| 2.0      | 3.774150 | 55.600   |\n",
       "| 2.0      | 3.774150 | 51.600   |\n",
       "| 2.0      | 3.774150 | 52.500   |\n",
       "| 2.0      | 3.774150 | 48.500   |\n",
       "| 2.0      | 3.774150 | 50.600   |\n",
       "| 2.0      | 3.774150 | 50.900   |\n",
       "| 2.0      | 3.774150 | 57.000   |\n",
       "| 2.0      | 3.774150 | 52.500   |\n",
       "| 2.0      | 3.774150 | 53.400   |\n",
       "| 2.0      | 3.774150 | 55.500   |\n",
       "| 2.0      | 3.774150 | 49.100   |\n",
       "\n"
      ],
      "text/plain": [
       "   dose sd       len + mean(len)\n",
       "1  0.5  4.499763 14.805         \n",
       "2  0.5  4.499763 22.105         \n",
       "3  0.5  4.499763 17.905         \n",
       "4  0.5  4.499763 16.405         \n",
       "5  0.5  4.499763 17.005         \n",
       "6  0.5  4.499763 20.605         \n",
       "7  0.5  4.499763 21.805         \n",
       "8  0.5  4.499763 21.805         \n",
       "9  0.5  4.499763 15.805         \n",
       "10 0.5  4.499763 17.605         \n",
       "11 0.5  4.499763 25.805         \n",
       "12 0.5  4.499763 32.105         \n",
       "13 0.5  4.499763 28.205         \n",
       "14 0.5  4.499763 20.305         \n",
       "15 0.5  4.499763 25.105         \n",
       "16 0.5  4.499763 20.605         \n",
       "17 0.5  4.499763 18.805         \n",
       "18 0.5  4.499763 20.005         \n",
       "19 0.5  4.499763 27.105         \n",
       "20 0.5  4.499763 20.305         \n",
       "21 1.0  4.415436 36.235         \n",
       "22 1.0  4.415436 36.235         \n",
       "23 1.0  4.415436 34.935         \n",
       "24 1.0  4.415436 37.035         \n",
       "25 1.0  4.415436 42.235         \n",
       "26 1.0  4.415436 37.035         \n",
       "27 1.0  4.415436 33.335         \n",
       "28 1.0  4.415436 34.235         \n",
       "29 1.0  4.415436 38.535         \n",
       "30 1.0  4.415436 35.235         \n",
       "31 1.0  4.415436 39.435         \n",
       "32 1.0  4.415436 43.035         \n",
       "33 1.0  4.415436 43.335         \n",
       "34 1.0  4.415436 46.135         \n",
       "35 1.0  4.415436 39.735         \n",
       "36 1.0  4.415436 44.935         \n",
       "37 1.0  4.415436 45.535         \n",
       "38 1.0  4.415436 40.935         \n",
       "39 1.0  4.415436 34.235         \n",
       "40 1.0  4.415436 47.035         \n",
       "41 2.0  3.774150 49.700         \n",
       "42 2.0  3.774150 44.600         \n",
       "43 2.0  3.774150 60.000         \n",
       "44 2.0  3.774150 51.600         \n",
       "45 2.0  3.774150 52.500         \n",
       "46 2.0  3.774150 58.600         \n",
       "47 2.0  3.774150 52.800         \n",
       "48 2.0  3.774150 47.600         \n",
       "49 2.0  3.774150 49.400         \n",
       "50 2.0  3.774150 55.600         \n",
       "51 2.0  3.774150 51.600         \n",
       "52 2.0  3.774150 52.500         \n",
       "53 2.0  3.774150 48.500         \n",
       "54 2.0  3.774150 50.600         \n",
       "55 2.0  3.774150 50.900         \n",
       "56 2.0  3.774150 57.000         \n",
       "57 2.0  3.774150 52.500         \n",
       "58 2.0  3.774150 53.400         \n",
       "59 2.0  3.774150 55.500         \n",
       "60 2.0  3.774150 49.100         "
      ]
     },
     "metadata": {},
     "output_type": "display_data"
    }
   ],
   "source": [
    "df  <- ToothGrowth %>%\n",
    "        group_by(dose) %>%      #투여량\n",
    "        summarise(sd=sd(len), len+mean(len)) #표준편차, 평균 \n",
    "df"
   ]
  },
  {
   "cell_type": "code",
   "execution_count": 50,
   "id": "proper-electron",
   "metadata": {},
   "outputs": [
    {
     "name": "stderr",
     "output_type": "stream",
     "text": [
      "`summarise()` has grouped output by 'dose', 'supp'. You can override using the `.groups` argument.\n"
     ]
    },
    {
     "data": {
      "text/html": [
       "<table>\n",
       "<thead><tr><th scope=col>dose</th><th scope=col>supp</th><th scope=col>sd</th><th scope=col>len + mean(len)</th></tr></thead>\n",
       "<tbody>\n",
       "\t<tr><td>0.5     </td><td>OJ      </td><td>4.459709</td><td>28.43   </td></tr>\n",
       "\t<tr><td>0.5     </td><td>OJ      </td><td>4.459709</td><td>34.73   </td></tr>\n",
       "\t<tr><td>0.5     </td><td>OJ      </td><td>4.459709</td><td>30.83   </td></tr>\n",
       "\t<tr><td>0.5     </td><td>OJ      </td><td>4.459709</td><td>22.93   </td></tr>\n",
       "\t<tr><td>0.5     </td><td>OJ      </td><td>4.459709</td><td>27.73   </td></tr>\n",
       "\t<tr><td>0.5     </td><td>OJ      </td><td>4.459709</td><td>23.23   </td></tr>\n",
       "\t<tr><td>0.5     </td><td>OJ      </td><td>4.459709</td><td>21.43   </td></tr>\n",
       "\t<tr><td>0.5     </td><td>OJ      </td><td>4.459709</td><td>22.63   </td></tr>\n",
       "\t<tr><td>0.5     </td><td>OJ      </td><td>4.459709</td><td>29.73   </td></tr>\n",
       "\t<tr><td>0.5     </td><td>OJ      </td><td>4.459709</td><td>22.93   </td></tr>\n",
       "\t<tr><td>0.5     </td><td>VC      </td><td>2.746634</td><td>12.18   </td></tr>\n",
       "\t<tr><td>0.5     </td><td>VC      </td><td>2.746634</td><td>19.48   </td></tr>\n",
       "\t<tr><td>0.5     </td><td>VC      </td><td>2.746634</td><td>15.28   </td></tr>\n",
       "\t<tr><td>0.5     </td><td>VC      </td><td>2.746634</td><td>13.78   </td></tr>\n",
       "\t<tr><td>0.5     </td><td>VC      </td><td>2.746634</td><td>14.38   </td></tr>\n",
       "\t<tr><td>0.5     </td><td>VC      </td><td>2.746634</td><td>17.98   </td></tr>\n",
       "\t<tr><td>0.5     </td><td>VC      </td><td>2.746634</td><td>19.18   </td></tr>\n",
       "\t<tr><td>0.5     </td><td>VC      </td><td>2.746634</td><td>19.18   </td></tr>\n",
       "\t<tr><td>0.5     </td><td>VC      </td><td>2.746634</td><td>13.18   </td></tr>\n",
       "\t<tr><td>0.5     </td><td>VC      </td><td>2.746634</td><td>14.98   </td></tr>\n",
       "\t<tr><td>1.0     </td><td>OJ      </td><td>3.910953</td><td>42.40   </td></tr>\n",
       "\t<tr><td>1.0     </td><td>OJ      </td><td>3.910953</td><td>46.00   </td></tr>\n",
       "\t<tr><td>1.0     </td><td>OJ      </td><td>3.910953</td><td>46.30   </td></tr>\n",
       "\t<tr><td>1.0     </td><td>OJ      </td><td>3.910953</td><td>49.10   </td></tr>\n",
       "\t<tr><td>1.0     </td><td>OJ      </td><td>3.910953</td><td>42.70   </td></tr>\n",
       "\t<tr><td>1.0     </td><td>OJ      </td><td>3.910953</td><td>47.90   </td></tr>\n",
       "\t<tr><td>1.0     </td><td>OJ      </td><td>3.910953</td><td>48.50   </td></tr>\n",
       "\t<tr><td>1.0     </td><td>OJ      </td><td>3.910953</td><td>43.90   </td></tr>\n",
       "\t<tr><td>1.0     </td><td>OJ      </td><td>3.910953</td><td>37.20   </td></tr>\n",
       "\t<tr><td>1.0     </td><td>OJ      </td><td>3.910953</td><td>50.00   </td></tr>\n",
       "\t<tr><td>1.0     </td><td>VC      </td><td>2.515309</td><td>33.27   </td></tr>\n",
       "\t<tr><td>1.0     </td><td>VC      </td><td>2.515309</td><td>33.27   </td></tr>\n",
       "\t<tr><td>1.0     </td><td>VC      </td><td>2.515309</td><td>31.97   </td></tr>\n",
       "\t<tr><td>1.0     </td><td>VC      </td><td>2.515309</td><td>34.07   </td></tr>\n",
       "\t<tr><td>1.0     </td><td>VC      </td><td>2.515309</td><td>39.27   </td></tr>\n",
       "\t<tr><td>1.0     </td><td>VC      </td><td>2.515309</td><td>34.07   </td></tr>\n",
       "\t<tr><td>1.0     </td><td>VC      </td><td>2.515309</td><td>30.37   </td></tr>\n",
       "\t<tr><td>1.0     </td><td>VC      </td><td>2.515309</td><td>31.27   </td></tr>\n",
       "\t<tr><td>1.0     </td><td>VC      </td><td>2.515309</td><td>35.57   </td></tr>\n",
       "\t<tr><td>1.0     </td><td>VC      </td><td>2.515309</td><td>32.27   </td></tr>\n",
       "\t<tr><td>2.0     </td><td>OJ      </td><td>2.655058</td><td>51.56   </td></tr>\n",
       "\t<tr><td>2.0     </td><td>OJ      </td><td>2.655058</td><td>52.46   </td></tr>\n",
       "\t<tr><td>2.0     </td><td>OJ      </td><td>2.655058</td><td>48.46   </td></tr>\n",
       "\t<tr><td>2.0     </td><td>OJ      </td><td>2.655058</td><td>50.56   </td></tr>\n",
       "\t<tr><td>2.0     </td><td>OJ      </td><td>2.655058</td><td>50.86   </td></tr>\n",
       "\t<tr><td>2.0     </td><td>OJ      </td><td>2.655058</td><td>56.96   </td></tr>\n",
       "\t<tr><td>2.0     </td><td>OJ      </td><td>2.655058</td><td>52.46   </td></tr>\n",
       "\t<tr><td>2.0     </td><td>OJ      </td><td>2.655058</td><td>53.36   </td></tr>\n",
       "\t<tr><td>2.0     </td><td>OJ      </td><td>2.655058</td><td>55.46   </td></tr>\n",
       "\t<tr><td>2.0     </td><td>OJ      </td><td>2.655058</td><td>49.06   </td></tr>\n",
       "\t<tr><td>2.0     </td><td>VC      </td><td>4.797731</td><td>49.74   </td></tr>\n",
       "\t<tr><td>2.0     </td><td>VC      </td><td>4.797731</td><td>44.64   </td></tr>\n",
       "\t<tr><td>2.0     </td><td>VC      </td><td>4.797731</td><td>60.04   </td></tr>\n",
       "\t<tr><td>2.0     </td><td>VC      </td><td>4.797731</td><td>51.64   </td></tr>\n",
       "\t<tr><td>2.0     </td><td>VC      </td><td>4.797731</td><td>52.54   </td></tr>\n",
       "\t<tr><td>2.0     </td><td>VC      </td><td>4.797731</td><td>58.64   </td></tr>\n",
       "\t<tr><td>2.0     </td><td>VC      </td><td>4.797731</td><td>52.84   </td></tr>\n",
       "\t<tr><td>2.0     </td><td>VC      </td><td>4.797731</td><td>47.64   </td></tr>\n",
       "\t<tr><td>2.0     </td><td>VC      </td><td>4.797731</td><td>49.44   </td></tr>\n",
       "\t<tr><td>2.0     </td><td>VC      </td><td>4.797731</td><td>55.64   </td></tr>\n",
       "</tbody>\n",
       "</table>\n"
      ],
      "text/latex": [
       "\\begin{tabular}{r|llll}\n",
       " dose & supp & sd & len + mean(len)\\\\\n",
       "\\hline\n",
       "\t 0.5      & OJ       & 4.459709 & 28.43   \\\\\n",
       "\t 0.5      & OJ       & 4.459709 & 34.73   \\\\\n",
       "\t 0.5      & OJ       & 4.459709 & 30.83   \\\\\n",
       "\t 0.5      & OJ       & 4.459709 & 22.93   \\\\\n",
       "\t 0.5      & OJ       & 4.459709 & 27.73   \\\\\n",
       "\t 0.5      & OJ       & 4.459709 & 23.23   \\\\\n",
       "\t 0.5      & OJ       & 4.459709 & 21.43   \\\\\n",
       "\t 0.5      & OJ       & 4.459709 & 22.63   \\\\\n",
       "\t 0.5      & OJ       & 4.459709 & 29.73   \\\\\n",
       "\t 0.5      & OJ       & 4.459709 & 22.93   \\\\\n",
       "\t 0.5      & VC       & 2.746634 & 12.18   \\\\\n",
       "\t 0.5      & VC       & 2.746634 & 19.48   \\\\\n",
       "\t 0.5      & VC       & 2.746634 & 15.28   \\\\\n",
       "\t 0.5      & VC       & 2.746634 & 13.78   \\\\\n",
       "\t 0.5      & VC       & 2.746634 & 14.38   \\\\\n",
       "\t 0.5      & VC       & 2.746634 & 17.98   \\\\\n",
       "\t 0.5      & VC       & 2.746634 & 19.18   \\\\\n",
       "\t 0.5      & VC       & 2.746634 & 19.18   \\\\\n",
       "\t 0.5      & VC       & 2.746634 & 13.18   \\\\\n",
       "\t 0.5      & VC       & 2.746634 & 14.98   \\\\\n",
       "\t 1.0      & OJ       & 3.910953 & 42.40   \\\\\n",
       "\t 1.0      & OJ       & 3.910953 & 46.00   \\\\\n",
       "\t 1.0      & OJ       & 3.910953 & 46.30   \\\\\n",
       "\t 1.0      & OJ       & 3.910953 & 49.10   \\\\\n",
       "\t 1.0      & OJ       & 3.910953 & 42.70   \\\\\n",
       "\t 1.0      & OJ       & 3.910953 & 47.90   \\\\\n",
       "\t 1.0      & OJ       & 3.910953 & 48.50   \\\\\n",
       "\t 1.0      & OJ       & 3.910953 & 43.90   \\\\\n",
       "\t 1.0      & OJ       & 3.910953 & 37.20   \\\\\n",
       "\t 1.0      & OJ       & 3.910953 & 50.00   \\\\\n",
       "\t 1.0      & VC       & 2.515309 & 33.27   \\\\\n",
       "\t 1.0      & VC       & 2.515309 & 33.27   \\\\\n",
       "\t 1.0      & VC       & 2.515309 & 31.97   \\\\\n",
       "\t 1.0      & VC       & 2.515309 & 34.07   \\\\\n",
       "\t 1.0      & VC       & 2.515309 & 39.27   \\\\\n",
       "\t 1.0      & VC       & 2.515309 & 34.07   \\\\\n",
       "\t 1.0      & VC       & 2.515309 & 30.37   \\\\\n",
       "\t 1.0      & VC       & 2.515309 & 31.27   \\\\\n",
       "\t 1.0      & VC       & 2.515309 & 35.57   \\\\\n",
       "\t 1.0      & VC       & 2.515309 & 32.27   \\\\\n",
       "\t 2.0      & OJ       & 2.655058 & 51.56   \\\\\n",
       "\t 2.0      & OJ       & 2.655058 & 52.46   \\\\\n",
       "\t 2.0      & OJ       & 2.655058 & 48.46   \\\\\n",
       "\t 2.0      & OJ       & 2.655058 & 50.56   \\\\\n",
       "\t 2.0      & OJ       & 2.655058 & 50.86   \\\\\n",
       "\t 2.0      & OJ       & 2.655058 & 56.96   \\\\\n",
       "\t 2.0      & OJ       & 2.655058 & 52.46   \\\\\n",
       "\t 2.0      & OJ       & 2.655058 & 53.36   \\\\\n",
       "\t 2.0      & OJ       & 2.655058 & 55.46   \\\\\n",
       "\t 2.0      & OJ       & 2.655058 & 49.06   \\\\\n",
       "\t 2.0      & VC       & 4.797731 & 49.74   \\\\\n",
       "\t 2.0      & VC       & 4.797731 & 44.64   \\\\\n",
       "\t 2.0      & VC       & 4.797731 & 60.04   \\\\\n",
       "\t 2.0      & VC       & 4.797731 & 51.64   \\\\\n",
       "\t 2.0      & VC       & 4.797731 & 52.54   \\\\\n",
       "\t 2.0      & VC       & 4.797731 & 58.64   \\\\\n",
       "\t 2.0      & VC       & 4.797731 & 52.84   \\\\\n",
       "\t 2.0      & VC       & 4.797731 & 47.64   \\\\\n",
       "\t 2.0      & VC       & 4.797731 & 49.44   \\\\\n",
       "\t 2.0      & VC       & 4.797731 & 55.64   \\\\\n",
       "\\end{tabular}\n"
      ],
      "text/markdown": [
       "\n",
       "| dose | supp | sd | len + mean(len) |\n",
       "|---|---|---|---|\n",
       "| 0.5      | OJ       | 4.459709 | 28.43    |\n",
       "| 0.5      | OJ       | 4.459709 | 34.73    |\n",
       "| 0.5      | OJ       | 4.459709 | 30.83    |\n",
       "| 0.5      | OJ       | 4.459709 | 22.93    |\n",
       "| 0.5      | OJ       | 4.459709 | 27.73    |\n",
       "| 0.5      | OJ       | 4.459709 | 23.23    |\n",
       "| 0.5      | OJ       | 4.459709 | 21.43    |\n",
       "| 0.5      | OJ       | 4.459709 | 22.63    |\n",
       "| 0.5      | OJ       | 4.459709 | 29.73    |\n",
       "| 0.5      | OJ       | 4.459709 | 22.93    |\n",
       "| 0.5      | VC       | 2.746634 | 12.18    |\n",
       "| 0.5      | VC       | 2.746634 | 19.48    |\n",
       "| 0.5      | VC       | 2.746634 | 15.28    |\n",
       "| 0.5      | VC       | 2.746634 | 13.78    |\n",
       "| 0.5      | VC       | 2.746634 | 14.38    |\n",
       "| 0.5      | VC       | 2.746634 | 17.98    |\n",
       "| 0.5      | VC       | 2.746634 | 19.18    |\n",
       "| 0.5      | VC       | 2.746634 | 19.18    |\n",
       "| 0.5      | VC       | 2.746634 | 13.18    |\n",
       "| 0.5      | VC       | 2.746634 | 14.98    |\n",
       "| 1.0      | OJ       | 3.910953 | 42.40    |\n",
       "| 1.0      | OJ       | 3.910953 | 46.00    |\n",
       "| 1.0      | OJ       | 3.910953 | 46.30    |\n",
       "| 1.0      | OJ       | 3.910953 | 49.10    |\n",
       "| 1.0      | OJ       | 3.910953 | 42.70    |\n",
       "| 1.0      | OJ       | 3.910953 | 47.90    |\n",
       "| 1.0      | OJ       | 3.910953 | 48.50    |\n",
       "| 1.0      | OJ       | 3.910953 | 43.90    |\n",
       "| 1.0      | OJ       | 3.910953 | 37.20    |\n",
       "| 1.0      | OJ       | 3.910953 | 50.00    |\n",
       "| 1.0      | VC       | 2.515309 | 33.27    |\n",
       "| 1.0      | VC       | 2.515309 | 33.27    |\n",
       "| 1.0      | VC       | 2.515309 | 31.97    |\n",
       "| 1.0      | VC       | 2.515309 | 34.07    |\n",
       "| 1.0      | VC       | 2.515309 | 39.27    |\n",
       "| 1.0      | VC       | 2.515309 | 34.07    |\n",
       "| 1.0      | VC       | 2.515309 | 30.37    |\n",
       "| 1.0      | VC       | 2.515309 | 31.27    |\n",
       "| 1.0      | VC       | 2.515309 | 35.57    |\n",
       "| 1.0      | VC       | 2.515309 | 32.27    |\n",
       "| 2.0      | OJ       | 2.655058 | 51.56    |\n",
       "| 2.0      | OJ       | 2.655058 | 52.46    |\n",
       "| 2.0      | OJ       | 2.655058 | 48.46    |\n",
       "| 2.0      | OJ       | 2.655058 | 50.56    |\n",
       "| 2.0      | OJ       | 2.655058 | 50.86    |\n",
       "| 2.0      | OJ       | 2.655058 | 56.96    |\n",
       "| 2.0      | OJ       | 2.655058 | 52.46    |\n",
       "| 2.0      | OJ       | 2.655058 | 53.36    |\n",
       "| 2.0      | OJ       | 2.655058 | 55.46    |\n",
       "| 2.0      | OJ       | 2.655058 | 49.06    |\n",
       "| 2.0      | VC       | 4.797731 | 49.74    |\n",
       "| 2.0      | VC       | 4.797731 | 44.64    |\n",
       "| 2.0      | VC       | 4.797731 | 60.04    |\n",
       "| 2.0      | VC       | 4.797731 | 51.64    |\n",
       "| 2.0      | VC       | 4.797731 | 52.54    |\n",
       "| 2.0      | VC       | 4.797731 | 58.64    |\n",
       "| 2.0      | VC       | 4.797731 | 52.84    |\n",
       "| 2.0      | VC       | 4.797731 | 47.64    |\n",
       "| 2.0      | VC       | 4.797731 | 49.44    |\n",
       "| 2.0      | VC       | 4.797731 | 55.64    |\n",
       "\n"
      ],
      "text/plain": [
       "   dose supp sd       len + mean(len)\n",
       "1  0.5  OJ   4.459709 28.43          \n",
       "2  0.5  OJ   4.459709 34.73          \n",
       "3  0.5  OJ   4.459709 30.83          \n",
       "4  0.5  OJ   4.459709 22.93          \n",
       "5  0.5  OJ   4.459709 27.73          \n",
       "6  0.5  OJ   4.459709 23.23          \n",
       "7  0.5  OJ   4.459709 21.43          \n",
       "8  0.5  OJ   4.459709 22.63          \n",
       "9  0.5  OJ   4.459709 29.73          \n",
       "10 0.5  OJ   4.459709 22.93          \n",
       "11 0.5  VC   2.746634 12.18          \n",
       "12 0.5  VC   2.746634 19.48          \n",
       "13 0.5  VC   2.746634 15.28          \n",
       "14 0.5  VC   2.746634 13.78          \n",
       "15 0.5  VC   2.746634 14.38          \n",
       "16 0.5  VC   2.746634 17.98          \n",
       "17 0.5  VC   2.746634 19.18          \n",
       "18 0.5  VC   2.746634 19.18          \n",
       "19 0.5  VC   2.746634 13.18          \n",
       "20 0.5  VC   2.746634 14.98          \n",
       "21 1.0  OJ   3.910953 42.40          \n",
       "22 1.0  OJ   3.910953 46.00          \n",
       "23 1.0  OJ   3.910953 46.30          \n",
       "24 1.0  OJ   3.910953 49.10          \n",
       "25 1.0  OJ   3.910953 42.70          \n",
       "26 1.0  OJ   3.910953 47.90          \n",
       "27 1.0  OJ   3.910953 48.50          \n",
       "28 1.0  OJ   3.910953 43.90          \n",
       "29 1.0  OJ   3.910953 37.20          \n",
       "30 1.0  OJ   3.910953 50.00          \n",
       "31 1.0  VC   2.515309 33.27          \n",
       "32 1.0  VC   2.515309 33.27          \n",
       "33 1.0  VC   2.515309 31.97          \n",
       "34 1.0  VC   2.515309 34.07          \n",
       "35 1.0  VC   2.515309 39.27          \n",
       "36 1.0  VC   2.515309 34.07          \n",
       "37 1.0  VC   2.515309 30.37          \n",
       "38 1.0  VC   2.515309 31.27          \n",
       "39 1.0  VC   2.515309 35.57          \n",
       "40 1.0  VC   2.515309 32.27          \n",
       "41 2.0  OJ   2.655058 51.56          \n",
       "42 2.0  OJ   2.655058 52.46          \n",
       "43 2.0  OJ   2.655058 48.46          \n",
       "44 2.0  OJ   2.655058 50.56          \n",
       "45 2.0  OJ   2.655058 50.86          \n",
       "46 2.0  OJ   2.655058 56.96          \n",
       "47 2.0  OJ   2.655058 52.46          \n",
       "48 2.0  OJ   2.655058 53.36          \n",
       "49 2.0  OJ   2.655058 55.46          \n",
       "50 2.0  OJ   2.655058 49.06          \n",
       "51 2.0  VC   4.797731 49.74          \n",
       "52 2.0  VC   4.797731 44.64          \n",
       "53 2.0  VC   4.797731 60.04          \n",
       "54 2.0  VC   4.797731 51.64          \n",
       "55 2.0  VC   4.797731 52.54          \n",
       "56 2.0  VC   4.797731 58.64          \n",
       "57 2.0  VC   4.797731 52.84          \n",
       "58 2.0  VC   4.797731 47.64          \n",
       "59 2.0  VC   4.797731 49.44          \n",
       "60 2.0  VC   4.797731 55.64          "
      ]
     },
     "metadata": {},
     "output_type": "display_data"
    }
   ],
   "source": [
    "df2  <- ToothGrowth %>%\n",
    "     group_by(dose, supp) %>%\n",
    "     summarise(sd = sd(len), len+mean(len))\n",
    "\n",
    "df2"
   ]
  },
  {
   "cell_type": "code",
   "execution_count": 55,
   "id": "arranged-collectible",
   "metadata": {},
   "outputs": [
    {
     "name": "stderr",
     "output_type": "stream",
     "text": [
      "ERROR while rich displaying an object: Error in FUN(X[[i]], ...): 객체 'len'를 찾을 수 없습니다\n",
      "\n",
      "Traceback:\n",
      "1. FUN(X[[i]], ...)\n",
      "2. tryCatch(withCallingHandlers({\n",
      " .     if (!mime %in% names(repr::mime2repr)) \n",
      " .         stop(\"No repr_* for mimetype \", mime, \" in repr::mime2repr\")\n",
      " .     rpr <- repr::mime2repr[[mime]](obj)\n",
      " .     if (is.null(rpr)) \n",
      " .         return(NULL)\n",
      " .     prepare_content(is.raw(rpr), rpr)\n",
      " . }, error = error_handler), error = outer_handler)\n",
      "3. tryCatchList(expr, classes, parentenv, handlers)\n",
      "4. tryCatchOne(expr, names, parentenv, handlers[[1L]])\n",
      "5. doTryCatch(return(expr), name, parentenv, handler)\n",
      "6. withCallingHandlers({\n",
      " .     if (!mime %in% names(repr::mime2repr)) \n",
      " .         stop(\"No repr_* for mimetype \", mime, \" in repr::mime2repr\")\n",
      " .     rpr <- repr::mime2repr[[mime]](obj)\n",
      " .     if (is.null(rpr)) \n",
      " .         return(NULL)\n",
      " .     prepare_content(is.raw(rpr), rpr)\n",
      " . }, error = error_handler)\n",
      "7. repr::mime2repr[[mime]](obj)\n",
      "8. repr_text.default(obj)\n",
      "9. paste(capture.output(print(obj)), collapse = \"\\n\")\n",
      "10. capture.output(print(obj))\n",
      "11. evalVis(expr)\n",
      "12. withVisible(eval(expr, pf))\n",
      "13. eval(expr, pf)\n",
      "14. eval(expr, pf)\n",
      "15. print(obj)\n",
      "16. print.ggplot(obj)\n",
      "17. ggplot_build(x)\n",
      "18. ggplot_build.ggplot(x)\n",
      "19. by_layer(function(l, d) l$compute_aesthetics(d, plot))\n",
      "20. f(l = layers[[i]], d = data[[i]])\n",
      "21. l$compute_aesthetics(d, plot)\n",
      "22. f(..., self = self)\n",
      "23. scales_add_defaults(plot$scales, data, aesthetics, plot$plot_env)\n",
      "24. lapply(aesthetics[new_aesthetics], eval_tidy, data = data)\n",
      "25. FUN(X[[i]], ...)\n"
     ]
    },
    {
     "data": {
      "image/png": "[encoded data removed]",
      "text/plain": [
       "plot without title"
      ]
     },
     "metadata": {},
     "output_type": "display_data"
    }
   ],
   "source": [
    "ggplot(df2,aes(dose,len)) +\n",
    "    geom_line(aes(group=supp,linetype=supp)) +\n",
    "    geom_point(size=2)"
   ]
  },
  {
   "cell_type": "code",
   "execution_count": null,
   "id": "advisory-accordance",
   "metadata": {},
   "outputs": [],
   "source": []
  }
 ],
 "metadata": {
  "kernelspec": {
   "display_name": "R",
   "language": "R",
   "name": "ir"
  },
  "language_info": {
   "codemirror_mode": "r",
   "file_extension": ".r",
   "mimetype": "text/x-r-source",
   "name": "R",
   "pygments_lexer": "r",
   "version": "3.6.1"
  }
 },
 "nbformat": 4,
 "nbformat_minor": 5
}
